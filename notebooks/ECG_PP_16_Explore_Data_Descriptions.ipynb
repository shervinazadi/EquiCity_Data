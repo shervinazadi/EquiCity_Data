{
 "cells": [
  {
   "cell_type": "code",
   "execution_count": 1,
   "metadata": {},
   "outputs": [
    {
     "name": "stderr",
     "output_type": "stream",
     "text": [
      "/Users/shervinazadi/opt/miniconda3/envs/equicity/lib/python3.8/site-packages/outdated/utils.py:14: OutdatedPackageWarning: The package pingouin is out of date. Your version is 0.4.0, the latest is 0.5.1.\n",
      "Set the environment variable OUTDATED_IGNORE=1 to disable these warnings.\n",
      "  return warn(\n"
     ]
    }
   ],
   "source": [
    "import os\n",
    "import pickle\n",
    "import numpy as np\n",
    "from itertools import permutations\n",
    "import pandas as pd\n",
    "import pingouin as pg\n",
    "\n",
    "# statistical methods\n",
    "from scipy.stats import chisquare\n",
    "from scipy.stats import ttest_1samp\n",
    "from scipy.stats import ttest_ind\n",
    "from scipy.stats import f_oneway\n",
    "\n",
    "from bioinfokit.analys import stat\n",
    "\n",
    "import statsmodels.stats as st\n",
    "from statsmodels.graphics.factorplots import interaction_plot\n",
    "\n",
    "import matplotlib.pyplot as plt\n",
    "from matplotlib import cm"
   ]
  },
  {
   "cell_type": "code",
   "execution_count": 2,
   "metadata": {},
   "outputs": [],
   "source": [
    "# read all the backups\n",
    "address = \"../data/equicity_kabeldistrict/backup\"\n",
    "game_backups = os.listdir(address)\n",
    "#game_backups.pop(game_backups.index('.DS_Store'))\n",
    "# sort the folders in ascending order\n",
    "game_backups.sort()"
   ]
  },
  {
   "cell_type": "code",
   "execution_count": 3,
   "metadata": {},
   "outputs": [],
   "source": [
    "game_id = -1\n",
    "# load project and users dict\n",
    "project_dict = pickle.load( open( address + \"/\" + game_backups[game_id] + \"/project.pickle\", \"rb\" ) )\n",
    "users_dict = pickle.load( open( address + \"/\" + game_backups[game_id] + \"/users.pickle\", \"rb\" ) )\n",
    "problem_dict = pickle.load( open(\"../data/problem.pickle\", \"rb\" ) )"
   ]
  },
  {
   "cell_type": "code",
   "execution_count": 4,
   "metadata": {},
   "outputs": [],
   "source": [
    "def print_keys(d, l=0):\n",
    "    # iterate over the dict keys\n",
    "    for k in d.keys():\n",
    "        # extract the shape if the value is a list\n",
    "        shape = np.array(d[k]).shape if isinstance(d[k],list) else \"\"\n",
    "        # print info\n",
    "        print(l*\"  \", k, \":\", type(d[k]), shape)\n",
    "        # recurse if the value is a dict\n",
    "        if isinstance(d[k],dict):\n",
    "            print_keys(d[k], l+1)\n",
    "\n",
    "# print_keys(project_dict)"
   ]
  },
  {
   "cell_type": "markdown",
   "metadata": {},
   "source": [
    "# EquiCity Game Master Dashboard\n",
    "\n",
    "## Introduction\n",
    "\n",
    "To assist the game master in assessing the gameplay process, we put forth a set of statistical workflows that provide insight into how the players are making decisions, how effective these decisions are, and finally, if the decisions are improving during the gameplay. For this, we restate these questions as statistical hypotheses that their truth should be inferred.\n",
    "\n",
    "* H1: Decision Homogeneity: Decisions are not homogenous across actors, w.r.t. sites, and colors.\n",
    "* H2: Decision Improvement: Decisions are improving throughout the rounds.\n",
    "* H3: Longer rounds will yield a more significant improvement in the decisions.\n",
    "\n",
    "Given that in each round, each actor makes a decision about how much space in each site is allocated to each color, the decisions are formated as $\\mathbf{X}_{[t,m,n,o]}$ where $t$ is the number of rounds, $m$ is the number of actors, $n$ is the number of sites, $o$ is the number of colors. Furthermore, since scores are calculated in each round per each criterion (three criteria in addition to individual criteria), the scores are formated as $\\mathbf{O}_{[t,m+3]}$.\n",
    "\n",
    "To infer the truth value of each of these hypotheses, we propose the following methods:\n",
    "* M1: Given the decisions in $\\mathbf{X}$, we use three-way classic ANOVA to compare the variance of the decision between Actors, Sites, and Colors. We propose a 0.05 alpha for the p-value. \n",
    "* M2: For the second hypothesis, we test the difference in one group of scores in two consecutive rounds by T-test.\n",
    "* M3: For H3, we compute the Pearson correlation of the change in each round's scores (including group and individual scores) with the time spent on that round."
   ]
  },
  {
   "cell_type": "markdown",
   "metadata": {},
   "source": [
    "## Analysis Implementation"
   ]
  },
  {
   "cell_type": "markdown",
   "metadata": {},
   "source": [
    "### Q1\n",
    "**are the site and actor homogenous with respect to decisions?**"
   ]
  },
  {
   "cell_type": "code",
   "execution_count": 5,
   "metadata": {},
   "outputs": [],
   "source": [
    "# extract the decision dictionary\n",
    "decision_dict = project_dict[\"gameplay\"][\"X\"]\n",
    "# remove the 0 time stamp\n",
    "_ = decision_dict.pop(\"0\", None)\n",
    "# extract and sort time stamps of decisions\n",
    "dec_ts_sorted = np.array(list(decision_dict.keys()), dtype=int)\n",
    "dec_ts_sorted.sort()\n",
    "# extract a sample decision\n",
    "x0 = np.array(decision_dict[str(dec_ts_sorted[0])]) * 1.05 - 0.01\n",
    "# construct a 4 dimensional tensor containting all the observations:\n",
    "# (Rounds, Actors, Sites, Colors)\n",
    "X = np.array([decision_dict[str(ts)] for ts in dec_ts_sorted]) * 1.05 - 0.01"
   ]
  },
  {
   "cell_type": "code",
   "execution_count": 6,
   "metadata": {},
   "outputs": [],
   "source": [
    "# Average over the color dimension: average color allocation per site, per actor for each round\n",
    "# after averaging, the dimension corresponding is collapsed (due to aggregation), ...\n",
    "# so to make the tensor comarable with the original tensor, we add an empty dimension in place of the color dimension\n",
    "X_C_mean = X.mean(axis=3)[:, :, :,np.newaxis]"
   ]
  },
  {
   "cell_type": "code",
   "execution_count": 7,
   "metadata": {},
   "outputs": [],
   "source": [
    "# subtracting the X-average-color from the X to emphasise that a decision fro a color bellow average is effectively a decision against allocation of space to that color\n",
    "X_tilda = X - X_C_mean "
   ]
  },
  {
   "cell_type": "code",
   "execution_count": 8,
   "metadata": {},
   "outputs": [
    {
     "data": {
      "text/plain": [
       "array([[[1.30000000e-02, 2.00000000e-03, 2.00000000e-03, 2.00000000e-03,\n",
       "         3.00000000e-03, 1.00000000e-03, 1.00000000e-03],\n",
       "        [9.00000000e-03, 2.80000000e-02, 2.70000000e-02, 2.70000000e-02,\n",
       "         2.70000000e-02, 2.70000000e-02, 2.70000000e-02],\n",
       "        [2.10000000e-02, 1.50000000e-02, 1.50000000e-02, 1.00000000e-03,\n",
       "         2.10000000e-02, 2.10000000e-02, 2.10000000e-02],\n",
       "        [1.70000000e-02, 3.00000000e-03, 1.72563323e-33, 3.00000000e-03,\n",
       "         3.00000000e-03, 2.70000000e-02, 1.60000000e-01],\n",
       "        [1.00000000e-03, 1.00000000e-03, 1.00000000e-03, 1.00000000e-03,\n",
       "         1.00000000e-03, 1.00000000e-03, 1.00000000e-03]],\n",
       "\n",
       "       [[1.00000000e-02, 3.00000000e-03, 2.00000000e-03, 1.00000000e-03,\n",
       "         1.00000000e-03, 1.00000000e-03, 9.00000000e-03],\n",
       "        [3.70000000e-02, 2.80000000e-02, 2.70000000e-02, 2.70000000e-02,\n",
       "         2.70000000e-02, 2.90000000e-02, 3.50000000e-02],\n",
       "        [2.90000000e-02, 1.90000000e-02, 3.40000000e-02, 1.00000000e-03,\n",
       "         1.90000000e-02, 1.90000000e-02, 3.70000000e-02],\n",
       "        [2.30000000e-02, 7.00000000e-03, 2.10000000e-02, 3.00000000e-03,\n",
       "         3.00000000e-03, 2.70000000e-02, 1.60000000e-01],\n",
       "        [1.00000000e-02, 1.60000000e-02, 1.90000000e-02, 1.00000000e-03,\n",
       "         1.00000000e-03, 1.00000000e-03, 2.10000000e-02]],\n",
       "\n",
       "       [[1.40000000e-02, 6.00000000e-03, 2.00000000e-03, 1.00000000e-03,\n",
       "         1.00000000e-03, 1.00000000e-03, 1.30000000e-02],\n",
       "        [2.70000000e-02, 4.20000000e-02, 1.80000000e-02, 1.72563323e-33,\n",
       "         1.72563323e-33, 2.00000000e-02, 2.80000000e-02],\n",
       "        [4.40000000e-02, 3.50000000e-02, 3.50000000e-02, 2.00000000e-03,\n",
       "         1.90000000e-02, 1.90000000e-02, 2.30000000e-02],\n",
       "        [5.20000000e-02, 1.10000000e-02, 2.10000000e-02, 3.00000000e-03,\n",
       "         3.00000000e-03, 2.70000000e-02, 1.60000000e-01],\n",
       "        [1.40000000e-02, 6.00000000e-03, 2.00000000e-03, 1.00000000e-03,\n",
       "         1.00000000e-03, 1.00000000e-03, 1.30000000e-02]]])"
      ]
     },
     "execution_count": 8,
     "metadata": {},
     "output_type": "execute_result"
    }
   ],
   "source": [
    "np.var(X_tilda, axis=3)"
   ]
  },
  {
   "cell_type": "code",
   "execution_count": 9,
   "metadata": {},
   "outputs": [],
   "source": [
    "# extract the decision dictionary\n",
    "pooled_decision_dict = project_dict[\"gameplay\"][\"D\"]\n",
    "# remove the 0 time stamp\n",
    "_ = pooled_decision_dict.pop(\"0\", None)\n",
    "# extract and sort time stamps of decisions\n",
    "pdec_ts_sorted = np.array(list(pooled_decision_dict.keys()), dtype=int)\n",
    "pdec_ts_sorted.sort()\n",
    "# construct a 3 dimensional tensor containting all the pooled decisions:\n",
    "# (Rounds, Sites, Colors)\n",
    "D = np.array([pooled_decision_dict[str(ts)] for ts in pdec_ts_sorted])"
   ]
  },
  {
   "cell_type": "code",
   "execution_count": 10,
   "metadata": {},
   "outputs": [],
   "source": [
    "# extract the decision dictionary\n",
    "fitted_decision_dict = project_dict[\"gameplay\"][\"V\"]\n",
    "# remove the 0 time stamp\n",
    "_ = fitted_decision_dict.pop(\"0\", None)\n",
    "# extract and sort time stamps of decisions\n",
    "fdec_ts_sorted = np.array(list(fitted_decision_dict.keys()), dtype=int)\n",
    "fdec_ts_sorted.sort()\n",
    "# construct a 3 dimensional tensor containting all the pooled decisions:\n",
    "# (Rounds, Sites, Colors)\n",
    "V = np.array([fitted_decision_dict[str(ts)] for ts in fdec_ts_sorted])"
   ]
  },
  {
   "cell_type": "code",
   "execution_count": 11,
   "metadata": {},
   "outputs": [],
   "source": [
    "plt.rcParams['figure.figsize'] = [10,10]"
   ]
  },
  {
   "cell_type": "code",
   "execution_count": 12,
   "metadata": {},
   "outputs": [],
   "source": [
    "def plot_matrix(ax, matrix, cmap, title_text, decimals=2):\n",
    "    ax.matshow(matrix, cmap=cmap)\n",
    "    ax.set_title(title_text, color=\"black\")\n",
    "    ax.tick_params(color=\"black\", labelcolor=\"black\")\n",
    "\n",
    "    for spine in ax.spines.values():\n",
    "        spine.set_edgecolor(\"black\")\n",
    "    x, y = np.indices(matrix.shape)\n",
    "    for i, (x_val, y_val) in enumerate(zip(x.flatten(), y.flatten())):\n",
    "        c = str(np.round(matrix[x_val, y_val], decimals))\n",
    "        ax.text(y_val, x_val, c, va='center', ha='center', color=\"black\")"
   ]
  },
  {
   "cell_type": "code",
   "execution_count": 13,
   "metadata": {},
   "outputs": [
    {
     "data": {
      "image/png": "[encoded data removed]",
      "text/plain": [
       "<Figure size 720x720 with 6 Axes>"
      ]
     },
     "metadata": {},
     "output_type": "display_data"
    }
   ],
   "source": [
    "fig, ax = plt.subplots(2, 3)\n",
    "fig.set_facecolor((1,1,1,1))\n",
    "\n",
    "plot_matrix(ax[0,0], D[0,:, :-1], \"RdBu_r\", r\"$\\mathbf{A}^{(0)}$\", 2)\n",
    "plot_matrix(ax[0,1], D[1,:, :-1], \"RdBu_r\", r\"$\\mathbf{A}^{(1)}$\", 2)\n",
    "plot_matrix(ax[0,2], D[2,:, :-1], \"RdBu_r\", r\"$\\mathbf{A}^{(2)}$\", 2)\n",
    "plot_matrix(ax[1,0], V[0,:, :-1], \"PiYG_r\", r\"$\\mathbf{V}^{(0)}$\", 1)\n",
    "plot_matrix(ax[1,1], V[1,:, :-1], \"PiYG_r\", r\"$\\mathbf{V}^{(1)}$\", 1)\n",
    "plot_matrix(ax[1,2], V[2,:, :-1], \"PiYG_r\", r\"$\\mathbf{V}^{(2)}$\", 1)\n",
    "\n",
    "fig.savefig(\"../out/Tensor_Plots_A_V_per_Round.pdf\", facecolor=fig.get_facecolor())\n",
    "fig.savefig(\"../out/Tensor_Plots_A_V_per_Round.png\", dpi=600, facecolor=fig.get_facecolor())"
   ]
  },
  {
   "cell_type": "code",
   "execution_count": 14,
   "metadata": {},
   "outputs": [],
   "source": [
    "# extract the max area of each site and bring it to the right shape\n",
    "site_max_area_toshape = problem_dict['site_max_area'].reshape(1,1,-1,1)\n",
    "# multiply X by the max area size to make decision variables comparable accross sites\n",
    "# X *= site_max_area_toshape"
   ]
  },
  {
   "cell_type": "markdown",
   "metadata": {},
   "source": [
    "#### Q1.1\n",
    "**how homogenous are the decisions of the participants (considering that the roles are different)?**"
   ]
  },
  {
   "cell_type": "code",
   "execution_count": 15,
   "metadata": {},
   "outputs": [],
   "source": [
    "# transpose the X (decision tensor) to the following shape:\n",
    "# (Actor, Site, Color, Round)\n",
    "X_A = X.transpose(1,2,3,0)\n",
    "# flatten all the dimensions except the actor dimension\n",
    "X_a = X_A.reshape((X_A.shape[0], -1))"
   ]
  },
  {
   "cell_type": "code",
   "execution_count": 16,
   "metadata": {},
   "outputs": [
    {
     "data": {
      "text/plain": [
       "(4, 520)"
      ]
     },
     "execution_count": 16,
     "metadata": {},
     "output_type": "execute_result"
    }
   ],
   "source": [
    "# H0: there is no significant difference between the decisions of different players\n",
    "# H1: there is a significant difference between the decision of the players\n",
    "# alpha: 0.05\n",
    "ALPHA = 5e-2\n",
    "# number of decision entries (decision variables)\n",
    "n = X_a.shape[1]\n",
    "# number of observations in total\n",
    "N = X_a.size\n",
    "# degrees of freedom\n",
    "df_between =  N//n - 1\n",
    "df_within = N - N//n\n",
    "df_total = N - 1 # : df_between + df_within\n",
    "(df_between, df_within)"
   ]
  },
  {
   "cell_type": "code",
   "execution_count": 17,
   "metadata": {},
   "outputs": [
    {
     "name": "stdout",
     "output_type": "stream",
     "text": [
      "statistic : 1.509639300625647e-31\n",
      "p-value : 1.0\n",
      "H0 is True and H1 is False\n"
     ]
    }
   ],
   "source": [
    "r = f_oneway(*tuple(X_a))\n",
    "print(\"statistic :\", r.statistic)\n",
    "print(\"p-value :\", r.pvalue)\n",
    "print(\"H0 is\", ALPHA < r.pvalue, \"and H1 is\", ALPHA > r.pvalue)"
   ]
  },
  {
   "cell_type": "markdown",
   "metadata": {},
   "source": [
    "#### Q1.2\n",
    "**how homogeneously the sites are being treated by the decisions of the participants (considering that they have different potentials)?**"
   ]
  },
  {
   "cell_type": "code",
   "execution_count": 18,
   "metadata": {},
   "outputs": [],
   "source": [
    "# transpose the X (decision tensor) to the following shape:\n",
    "# (Site, Actor, Color, Round)\n",
    "X_S = X.transpose(2,1,3,0)\n",
    "# flatten all the dimensions except the actor dimension\n",
    "X_s = X_S.reshape((X_S.shape[0], -1))"
   ]
  },
  {
   "cell_type": "code",
   "execution_count": 19,
   "metadata": {},
   "outputs": [
    {
     "data": {
      "text/plain": [
       "(6, 518)"
      ]
     },
     "execution_count": 19,
     "metadata": {},
     "output_type": "execute_result"
    }
   ],
   "source": [
    "# H0: there is no significant difference between the decisions about different sites\n",
    "# H1: there is a significant difference between the decision about sites\n",
    "# alpha: 0.05\n",
    "ALPHA = 5e-2\n",
    "# number of decision entries (decision variables)\n",
    "n = X_s.shape[1]\n",
    "# number of observations in total\n",
    "N = X_s.size\n",
    "# degrees of freedom\n",
    "df_between =  N//n - 1\n",
    "df_within = N - N//n\n",
    "df_total = N - 1 # : df_between + df_within\n",
    "(df_between, df_within)"
   ]
  },
  {
   "cell_type": "code",
   "execution_count": 20,
   "metadata": {},
   "outputs": [
    {
     "name": "stdout",
     "output_type": "stream",
     "text": [
      "statistic : 5.874742693060515e-32\n",
      "p-value : 1.0\n",
      "H0 is True and H1 is False\n"
     ]
    }
   ],
   "source": [
    "r = f_oneway(*tuple(X_s))\n",
    "print(\"statistic :\", r.statistic)\n",
    "print(\"p-value :\", r.pvalue)\n",
    "print(\"H0 is\", ALPHA < r.pvalue, \"and H1 is\", ALPHA > r.pvalue)"
   ]
  },
  {
   "cell_type": "markdown",
   "metadata": {},
   "source": [
    "#### Q1 \n",
    "(sub-questions combined using two-way ANOVA)"
   ]
  },
  {
   "cell_type": "code",
   "execution_count": 21,
   "metadata": {},
   "outputs": [
    {
     "data": {
      "text/plain": [
       "(3, 5, 7, 5)"
      ]
     },
     "execution_count": 21,
     "metadata": {},
     "output_type": "execute_result"
    }
   ],
   "source": [
    "X.shape"
   ]
  },
  {
   "cell_type": "code",
   "execution_count": 22,
   "metadata": {},
   "outputs": [
    {
     "data": {
      "text/html": [
       "<div>\n",
       "<style scoped>\n",
       "    .dataframe tbody tr th:only-of-type {\n",
       "        vertical-align: middle;\n",
       "    }\n",
       "\n",
       "    .dataframe tbody tr th {\n",
       "        vertical-align: top;\n",
       "    }\n",
       "\n",
       "    .dataframe thead th {\n",
       "        text-align: right;\n",
       "    }\n",
       "</style>\n",
       "<table border=\"1\" class=\"dataframe\">\n",
       "  <thead>\n",
       "    <tr style=\"text-align: right;\">\n",
       "      <th></th>\n",
       "      <th>Round</th>\n",
       "      <th>Actor</th>\n",
       "      <th>Site</th>\n",
       "      <th>Color</th>\n",
       "      <th>x</th>\n",
       "    </tr>\n",
       "  </thead>\n",
       "  <tbody>\n",
       "    <tr>\n",
       "      <th>0</th>\n",
       "      <td>0</td>\n",
       "      <td>0</td>\n",
       "      <td>0</td>\n",
       "      <td>0</td>\n",
       "      <td>0.15</td>\n",
       "    </tr>\n",
       "    <tr>\n",
       "      <th>1</th>\n",
       "      <td>0</td>\n",
       "      <td>0</td>\n",
       "      <td>0</td>\n",
       "      <td>1</td>\n",
       "      <td>0.40</td>\n",
       "    </tr>\n",
       "    <tr>\n",
       "      <th>2</th>\n",
       "      <td>0</td>\n",
       "      <td>0</td>\n",
       "      <td>0</td>\n",
       "      <td>2</td>\n",
       "      <td>0.20</td>\n",
       "    </tr>\n",
       "    <tr>\n",
       "      <th>3</th>\n",
       "      <td>0</td>\n",
       "      <td>0</td>\n",
       "      <td>0</td>\n",
       "      <td>3</td>\n",
       "      <td>0.20</td>\n",
       "    </tr>\n",
       "    <tr>\n",
       "      <th>5</th>\n",
       "      <td>0</td>\n",
       "      <td>0</td>\n",
       "      <td>1</td>\n",
       "      <td>0</td>\n",
       "      <td>0.25</td>\n",
       "    </tr>\n",
       "    <tr>\n",
       "      <th>...</th>\n",
       "      <td>...</td>\n",
       "      <td>...</td>\n",
       "      <td>...</td>\n",
       "      <td>...</td>\n",
       "      <td>...</td>\n",
       "    </tr>\n",
       "    <tr>\n",
       "      <th>518</th>\n",
       "      <td>2</td>\n",
       "      <td>4</td>\n",
       "      <td>5</td>\n",
       "      <td>3</td>\n",
       "      <td>0.20</td>\n",
       "    </tr>\n",
       "    <tr>\n",
       "      <th>520</th>\n",
       "      <td>2</td>\n",
       "      <td>4</td>\n",
       "      <td>6</td>\n",
       "      <td>0</td>\n",
       "      <td>0.15</td>\n",
       "    </tr>\n",
       "    <tr>\n",
       "      <th>521</th>\n",
       "      <td>2</td>\n",
       "      <td>4</td>\n",
       "      <td>6</td>\n",
       "      <td>1</td>\n",
       "      <td>0.10</td>\n",
       "    </tr>\n",
       "    <tr>\n",
       "      <th>522</th>\n",
       "      <td>2</td>\n",
       "      <td>4</td>\n",
       "      <td>6</td>\n",
       "      <td>2</td>\n",
       "      <td>0.40</td>\n",
       "    </tr>\n",
       "    <tr>\n",
       "      <th>523</th>\n",
       "      <td>2</td>\n",
       "      <td>4</td>\n",
       "      <td>6</td>\n",
       "      <td>3</td>\n",
       "      <td>0.25</td>\n",
       "    </tr>\n",
       "  </tbody>\n",
       "</table>\n",
       "<p>420 rows × 5 columns</p>\n",
       "</div>"
      ],
      "text/plain": [
       "     Round  Actor  Site  Color     x\n",
       "0        0      0     0      0  0.15\n",
       "1        0      0     0      1  0.40\n",
       "2        0      0     0      2  0.20\n",
       "3        0      0     0      3  0.20\n",
       "5        0      0     1      0  0.25\n",
       "..     ...    ...   ...    ...   ...\n",
       "518      2      4     5      3  0.20\n",
       "520      2      4     6      0  0.15\n",
       "521      2      4     6      1  0.10\n",
       "522      2      4     6      2  0.40\n",
       "523      2      4     6      3  0.25\n",
       "\n",
       "[420 rows x 5 columns]"
      ]
     },
     "execution_count": 22,
     "metadata": {},
     "output_type": "execute_result"
    }
   ],
   "source": [
    "# convert the X to pandas dataframe\n",
    "X_ind = np.indices(X.shape)\n",
    "X_ind_flat = X_ind.reshape(X_ind.shape[0], -1)\n",
    "X_df = pd.DataFrame(X_ind_flat.T, columns=[\"Round\", \"Actor\", \"Site\", \"Color\"])\n",
    "X_df[\"x\"] = X.ravel()\n",
    "# remove the last color that corresponds to empty space\n",
    "X_df = X_df[X_df[\"Color\"] != X.shape[-1] -1]\n",
    "X_df"
   ]
  },
  {
   "cell_type": "markdown",
   "metadata": {},
   "source": [
    "##### Descriptive Statistics of the three levels for Actor, Site, and Color"
   ]
  },
  {
   "cell_type": "code",
   "execution_count": 23,
   "metadata": {},
   "outputs": [
    {
     "data": {
      "text/plain": [
       "(              x\n",
       " Actor          \n",
       " 0      0.216667\n",
       " 1      0.232143\n",
       " 2      0.214881\n",
       " 3      0.147024\n",
       " 4      0.191667,\n",
       "               x\n",
       " Actor          \n",
       " 0      0.059785\n",
       " 1      0.158806\n",
       " 2      0.159778\n",
       " 3      0.115475\n",
       " 4      0.066239)"
      ]
     },
     "execution_count": 23,
     "metadata": {},
     "output_type": "execute_result"
    }
   ],
   "source": [
    "X_df[['Actor','x']].groupby('Actor').mean(), X_df[['Actor','x']].groupby('Actor').std()"
   ]
  },
  {
   "cell_type": "code",
   "execution_count": 24,
   "metadata": {},
   "outputs": [
    {
     "data": {
      "text/plain": [
       "(             x\n",
       " Site          \n",
       " 0     0.204167\n",
       " 1     0.206667\n",
       " 2     0.205833\n",
       " 3     0.206667\n",
       " 4     0.206667\n",
       " 5     0.203333\n",
       " 6     0.170000,\n",
       "              x\n",
       " Site          \n",
       " 0     0.134130\n",
       " 1     0.128375\n",
       " 2     0.130868\n",
       " 3     0.070390\n",
       " 4     0.098491\n",
       " 5     0.127846\n",
       " 6     0.154646)"
      ]
     },
     "execution_count": 24,
     "metadata": {},
     "output_type": "execute_result"
    }
   ],
   "source": [
    "X_df[['Site','x']].groupby('Site').mean(), X_df[['Site','x']].groupby('Site').std()"
   ]
  },
  {
   "cell_type": "code",
   "execution_count": 25,
   "metadata": {},
   "outputs": [
    {
     "data": {
      "text/plain": [
       "array([0.00329301, 0.00350282, 0.00231273, 0.0023221 , 0.00449275,\n",
       "       0.00260684, 0.0062963 ])"
      ]
     },
     "execution_count": 25,
     "metadata": {},
     "output_type": "execute_result"
    }
   ],
   "source": [
    "X_df[['Site','x']].groupby('Site').mean().to_numpy().flatten()  / site_max_area_toshape.flatten()"
   ]
  },
  {
   "cell_type": "code",
   "execution_count": 26,
   "metadata": {},
   "outputs": [
    {
     "data": {
      "text/plain": [
       "(              x\n",
       " Color          \n",
       " 0      0.138571\n",
       " 1      0.193333\n",
       " 2      0.229048\n",
       " 3      0.240952,\n",
       "               x\n",
       " Color          \n",
       " 0      0.098853\n",
       " 1      0.126732\n",
       " 2      0.131336\n",
       " 3      0.107592)"
      ]
     },
     "execution_count": 26,
     "metadata": {},
     "output_type": "execute_result"
    }
   ],
   "source": [
    "X_df[['Color','x']].groupby('Color').mean(), X_df[['Color','x']].groupby('Color').std()"
   ]
  },
  {
   "cell_type": "markdown",
   "metadata": {},
   "source": [
    "##### Checking for Assumptions of ANOVA"
   ]
  },
  {
   "cell_type": "markdown",
   "metadata": {},
   "source": [
    "First check for the homogeneity of the data for equal variance"
   ]
  },
  {
   "cell_type": "code",
   "execution_count": 55,
   "metadata": {},
   "outputs": [
    {
     "data": {
      "text/html": [
       "<div>\n",
       "<style scoped>\n",
       "    .dataframe tbody tr th:only-of-type {\n",
       "        vertical-align: middle;\n",
       "    }\n",
       "\n",
       "    .dataframe tbody tr th {\n",
       "        vertical-align: top;\n",
       "    }\n",
       "\n",
       "    .dataframe thead th {\n",
       "        text-align: right;\n",
       "    }\n",
       "</style>\n",
       "<table border=\"1\" class=\"dataframe\">\n",
       "  <thead>\n",
       "    <tr style=\"text-align: right;\">\n",
       "      <th></th>\n",
       "      <th>Parameter</th>\n",
       "      <th>Value</th>\n",
       "    </tr>\n",
       "  </thead>\n",
       "  <tbody>\n",
       "    <tr>\n",
       "      <th>0</th>\n",
       "      <td>Test statistics (W)</td>\n",
       "      <td>0.7267</td>\n",
       "    </tr>\n",
       "    <tr>\n",
       "      <th>1</th>\n",
       "      <td>Degrees of freedom (Df)</td>\n",
       "      <td>139.0000</td>\n",
       "    </tr>\n",
       "    <tr>\n",
       "      <th>2</th>\n",
       "      <td>p value</td>\n",
       "      <td>0.9828</td>\n",
       "    </tr>\n",
       "  </tbody>\n",
       "</table>\n",
       "</div>"
      ],
      "text/plain": [
       "                 Parameter     Value\n",
       "0      Test statistics (W)    0.7267\n",
       "1  Degrees of freedom (Df)  139.0000\n",
       "2                  p value    0.9828"
      ]
     },
     "execution_count": 55,
     "metadata": {},
     "output_type": "execute_result"
    }
   ],
   "source": [
    "res = stat()\n",
    "res.levene(df=X_df, res_var='x', xfac_var=['Actor','Site','Color'])\n",
    "\n",
    "with open('../out/homogenity_ASC.tex', 'w') as w:\n",
    "    w.write(res.levene_summary.to_latex())\n",
    "\n",
    "res.levene_summary"
   ]
  },
  {
   "cell_type": "markdown",
   "metadata": {},
   "source": [
    "The dataset with three-way design has equal variance with Levene test (*W*=0.7267, *df*=139, *p*=0.9828). \n",
    "Normal ANOVA is used for later comparison."
   ]
  },
  {
   "cell_type": "markdown",
   "metadata": {},
   "source": [
    "##### ANOVA"
   ]
  },
  {
   "cell_type": "code",
   "execution_count": 56,
   "metadata": {},
   "outputs": [
    {
     "data": {
      "text/html": [
       "<div>\n",
       "<style scoped>\n",
       "    .dataframe tbody tr th:only-of-type {\n",
       "        vertical-align: middle;\n",
       "    }\n",
       "\n",
       "    .dataframe tbody tr th {\n",
       "        vertical-align: top;\n",
       "    }\n",
       "\n",
       "    .dataframe thead th {\n",
       "        text-align: right;\n",
       "    }\n",
       "</style>\n",
       "<table border=\"1\" class=\"dataframe\">\n",
       "  <thead>\n",
       "    <tr style=\"text-align: right;\">\n",
       "      <th></th>\n",
       "      <th>Source</th>\n",
       "      <th>SS</th>\n",
       "      <th>DF</th>\n",
       "      <th>MS</th>\n",
       "      <th>F</th>\n",
       "      <th>p-unc</th>\n",
       "      <th>np2</th>\n",
       "    </tr>\n",
       "  </thead>\n",
       "  <tbody>\n",
       "    <tr>\n",
       "      <th>0</th>\n",
       "      <td>Actor</td>\n",
       "      <td>0.370</td>\n",
       "      <td>4.0</td>\n",
       "      <td>0.093</td>\n",
       "      <td>23.630</td>\n",
       "      <td>0.000</td>\n",
       "      <td>0.252</td>\n",
       "    </tr>\n",
       "    <tr>\n",
       "      <th>1</th>\n",
       "      <td>Site</td>\n",
       "      <td>0.066</td>\n",
       "      <td>6.0</td>\n",
       "      <td>0.011</td>\n",
       "      <td>2.794</td>\n",
       "      <td>0.012</td>\n",
       "      <td>0.056</td>\n",
       "    </tr>\n",
       "    <tr>\n",
       "      <th>2</th>\n",
       "      <td>Color</td>\n",
       "      <td>0.665</td>\n",
       "      <td>3.0</td>\n",
       "      <td>0.222</td>\n",
       "      <td>56.636</td>\n",
       "      <td>0.000</td>\n",
       "      <td>0.378</td>\n",
       "    </tr>\n",
       "    <tr>\n",
       "      <th>3</th>\n",
       "      <td>Actor * Site</td>\n",
       "      <td>0.286</td>\n",
       "      <td>24.0</td>\n",
       "      <td>0.012</td>\n",
       "      <td>3.044</td>\n",
       "      <td>0.000</td>\n",
       "      <td>0.207</td>\n",
       "    </tr>\n",
       "    <tr>\n",
       "      <th>4</th>\n",
       "      <td>Actor * Color</td>\n",
       "      <td>1.274</td>\n",
       "      <td>12.0</td>\n",
       "      <td>0.106</td>\n",
       "      <td>27.106</td>\n",
       "      <td>0.000</td>\n",
       "      <td>0.537</td>\n",
       "    </tr>\n",
       "    <tr>\n",
       "      <th>5</th>\n",
       "      <td>Site * Color</td>\n",
       "      <td>0.972</td>\n",
       "      <td>18.0</td>\n",
       "      <td>0.054</td>\n",
       "      <td>13.793</td>\n",
       "      <td>0.000</td>\n",
       "      <td>0.470</td>\n",
       "    </tr>\n",
       "    <tr>\n",
       "      <th>6</th>\n",
       "      <td>Actor * Site * Color</td>\n",
       "      <td>1.619</td>\n",
       "      <td>72.0</td>\n",
       "      <td>0.022</td>\n",
       "      <td>5.742</td>\n",
       "      <td>0.000</td>\n",
       "      <td>0.596</td>\n",
       "    </tr>\n",
       "    <tr>\n",
       "      <th>7</th>\n",
       "      <td>Residual</td>\n",
       "      <td>1.097</td>\n",
       "      <td>280.0</td>\n",
       "      <td>0.004</td>\n",
       "      <td>NaN</td>\n",
       "      <td>NaN</td>\n",
       "      <td>NaN</td>\n",
       "    </tr>\n",
       "  </tbody>\n",
       "</table>\n",
       "</div>"
      ],
      "text/plain": [
       "                 Source     SS     DF     MS       F  p-unc    np2\n",
       "0                 Actor  0.370    4.0  0.093  23.630  0.000  0.252\n",
       "1                  Site  0.066    6.0  0.011   2.794  0.012  0.056\n",
       "2                 Color  0.665    3.0  0.222  56.636  0.000  0.378\n",
       "3          Actor * Site  0.286   24.0  0.012   3.044  0.000  0.207\n",
       "4         Actor * Color  1.274   12.0  0.106  27.106  0.000  0.537\n",
       "5          Site * Color  0.972   18.0  0.054  13.793  0.000  0.470\n",
       "6  Actor * Site * Color  1.619   72.0  0.022   5.742  0.000  0.596\n",
       "7              Residual  1.097  280.0  0.004     NaN    NaN    NaN"
      ]
     },
     "execution_count": 56,
     "metadata": {},
     "output_type": "execute_result"
    }
   ],
   "source": [
    "# three-way ANOVA usign Pingouin library\n",
    "aov = pg.anova(data=X_df, dv='x', between=['Actor', 'Site', 'Color'], detailed=True, effsize='np2').round(3)\n",
    "\n",
    "with open('../out/aov_ASC.tex', 'w') as w:\n",
    "    w.write(aov.to_latex())\n",
    "\n",
    "aov"
   ]
  },
  {
   "attachments": {},
   "cell_type": "markdown",
   "metadata": {},
   "source": [
    "The three-way ANOVA shows that the main effects of Actor, Site, and Color are significant: \n",
    "$F_a(4,280)=23.630$, $p<.001$,$\\eta^2=0.252$; \n",
    "$F_s(6,280)=2.794$, $p<0.020$ ,$\\eta^2=0.056$; \n",
    "$F_c(3,280)=56.636$, $p<.001$,$\\eta^2=0.378$. \n",
    "The two-way interaction effect between Actor-Site, Actor-Color, Site-Color are all significant: \n",
    "$F_{a*s}(24,280)=3.044$, $p<.001$,$\\eta^2=0.207$; \n",
    "$F_{a*c}(12,280)=27.106$, $p<.001$,$\\eta^2=0.537$; \n",
    "$F_{s*c}(18,280)=13.793$, $p<.001$,$\\eta^2=0.470$. \n",
    "And the three-way interaction effect among Actor, Site, and Color is significant: $F_{a*s*c}(72,280)=5.742$, $p<.001$,$\\eta^2=0.596$. "
   ]
  },
  {
   "cell_type": "markdown",
   "metadata": {},
   "source": [
    "##### Post-hoc analysis using Tukey-HSD test"
   ]
  },
  {
   "cell_type": "code",
   "execution_count": 29,
   "metadata": {},
   "outputs": [
    {
     "data": {
      "text/html": [
       "<div>\n",
       "<style scoped>\n",
       "    .dataframe tbody tr th:only-of-type {\n",
       "        vertical-align: middle;\n",
       "    }\n",
       "\n",
       "    .dataframe tbody tr th {\n",
       "        vertical-align: top;\n",
       "    }\n",
       "\n",
       "    .dataframe thead th {\n",
       "        text-align: right;\n",
       "    }\n",
       "</style>\n",
       "<table border=\"1\" class=\"dataframe\">\n",
       "  <thead>\n",
       "    <tr style=\"text-align: right;\">\n",
       "      <th></th>\n",
       "      <th>A</th>\n",
       "      <th>B</th>\n",
       "      <th>mean(A)</th>\n",
       "      <th>mean(B)</th>\n",
       "      <th>diff</th>\n",
       "      <th>se</th>\n",
       "      <th>T</th>\n",
       "      <th>p-tukey</th>\n",
       "      <th>hedges</th>\n",
       "    </tr>\n",
       "  </thead>\n",
       "  <tbody>\n",
       "    <tr>\n",
       "      <th>0</th>\n",
       "      <td>0</td>\n",
       "      <td>1</td>\n",
       "      <td>0.204</td>\n",
       "      <td>0.207</td>\n",
       "      <td>-0.002</td>\n",
       "      <td>0.023</td>\n",
       "      <td>-0.111</td>\n",
       "      <td>0.900</td>\n",
       "      <td>-0.020</td>\n",
       "    </tr>\n",
       "    <tr>\n",
       "      <th>1</th>\n",
       "      <td>0</td>\n",
       "      <td>2</td>\n",
       "      <td>0.204</td>\n",
       "      <td>0.206</td>\n",
       "      <td>-0.002</td>\n",
       "      <td>0.023</td>\n",
       "      <td>-0.074</td>\n",
       "      <td>0.900</td>\n",
       "      <td>-0.013</td>\n",
       "    </tr>\n",
       "    <tr>\n",
       "      <th>2</th>\n",
       "      <td>0</td>\n",
       "      <td>3</td>\n",
       "      <td>0.204</td>\n",
       "      <td>0.207</td>\n",
       "      <td>-0.002</td>\n",
       "      <td>0.023</td>\n",
       "      <td>-0.111</td>\n",
       "      <td>0.900</td>\n",
       "      <td>-0.020</td>\n",
       "    </tr>\n",
       "    <tr>\n",
       "      <th>3</th>\n",
       "      <td>0</td>\n",
       "      <td>4</td>\n",
       "      <td>0.204</td>\n",
       "      <td>0.207</td>\n",
       "      <td>-0.002</td>\n",
       "      <td>0.023</td>\n",
       "      <td>-0.111</td>\n",
       "      <td>0.900</td>\n",
       "      <td>-0.020</td>\n",
       "    </tr>\n",
       "    <tr>\n",
       "      <th>4</th>\n",
       "      <td>0</td>\n",
       "      <td>5</td>\n",
       "      <td>0.204</td>\n",
       "      <td>0.203</td>\n",
       "      <td>0.001</td>\n",
       "      <td>0.023</td>\n",
       "      <td>0.037</td>\n",
       "      <td>0.900</td>\n",
       "      <td>0.007</td>\n",
       "    </tr>\n",
       "    <tr>\n",
       "      <th>5</th>\n",
       "      <td>0</td>\n",
       "      <td>6</td>\n",
       "      <td>0.204</td>\n",
       "      <td>0.170</td>\n",
       "      <td>0.034</td>\n",
       "      <td>0.023</td>\n",
       "      <td>1.517</td>\n",
       "      <td>0.707</td>\n",
       "      <td>0.275</td>\n",
       "    </tr>\n",
       "    <tr>\n",
       "      <th>6</th>\n",
       "      <td>1</td>\n",
       "      <td>2</td>\n",
       "      <td>0.207</td>\n",
       "      <td>0.206</td>\n",
       "      <td>0.001</td>\n",
       "      <td>0.023</td>\n",
       "      <td>0.037</td>\n",
       "      <td>0.900</td>\n",
       "      <td>0.007</td>\n",
       "    </tr>\n",
       "    <tr>\n",
       "      <th>7</th>\n",
       "      <td>1</td>\n",
       "      <td>3</td>\n",
       "      <td>0.207</td>\n",
       "      <td>0.207</td>\n",
       "      <td>0.000</td>\n",
       "      <td>0.023</td>\n",
       "      <td>0.000</td>\n",
       "      <td>0.900</td>\n",
       "      <td>0.000</td>\n",
       "    </tr>\n",
       "    <tr>\n",
       "      <th>8</th>\n",
       "      <td>1</td>\n",
       "      <td>4</td>\n",
       "      <td>0.207</td>\n",
       "      <td>0.207</td>\n",
       "      <td>0.000</td>\n",
       "      <td>0.023</td>\n",
       "      <td>0.000</td>\n",
       "      <td>0.900</td>\n",
       "      <td>0.000</td>\n",
       "    </tr>\n",
       "    <tr>\n",
       "      <th>9</th>\n",
       "      <td>1</td>\n",
       "      <td>5</td>\n",
       "      <td>0.207</td>\n",
       "      <td>0.203</td>\n",
       "      <td>0.003</td>\n",
       "      <td>0.023</td>\n",
       "      <td>0.148</td>\n",
       "      <td>0.900</td>\n",
       "      <td>0.027</td>\n",
       "    </tr>\n",
       "    <tr>\n",
       "      <th>10</th>\n",
       "      <td>1</td>\n",
       "      <td>6</td>\n",
       "      <td>0.207</td>\n",
       "      <td>0.170</td>\n",
       "      <td>0.037</td>\n",
       "      <td>0.023</td>\n",
       "      <td>1.628</td>\n",
       "      <td>0.642</td>\n",
       "      <td>0.295</td>\n",
       "    </tr>\n",
       "    <tr>\n",
       "      <th>11</th>\n",
       "      <td>2</td>\n",
       "      <td>3</td>\n",
       "      <td>0.206</td>\n",
       "      <td>0.207</td>\n",
       "      <td>-0.001</td>\n",
       "      <td>0.023</td>\n",
       "      <td>-0.037</td>\n",
       "      <td>0.900</td>\n",
       "      <td>-0.007</td>\n",
       "    </tr>\n",
       "    <tr>\n",
       "      <th>12</th>\n",
       "      <td>2</td>\n",
       "      <td>4</td>\n",
       "      <td>0.206</td>\n",
       "      <td>0.207</td>\n",
       "      <td>-0.001</td>\n",
       "      <td>0.023</td>\n",
       "      <td>-0.037</td>\n",
       "      <td>0.900</td>\n",
       "      <td>-0.007</td>\n",
       "    </tr>\n",
       "    <tr>\n",
       "      <th>13</th>\n",
       "      <td>2</td>\n",
       "      <td>5</td>\n",
       "      <td>0.206</td>\n",
       "      <td>0.203</td>\n",
       "      <td>0.003</td>\n",
       "      <td>0.023</td>\n",
       "      <td>0.111</td>\n",
       "      <td>0.900</td>\n",
       "      <td>0.020</td>\n",
       "    </tr>\n",
       "    <tr>\n",
       "      <th>14</th>\n",
       "      <td>2</td>\n",
       "      <td>6</td>\n",
       "      <td>0.206</td>\n",
       "      <td>0.170</td>\n",
       "      <td>0.036</td>\n",
       "      <td>0.023</td>\n",
       "      <td>1.591</td>\n",
       "      <td>0.664</td>\n",
       "      <td>0.289</td>\n",
       "    </tr>\n",
       "    <tr>\n",
       "      <th>15</th>\n",
       "      <td>3</td>\n",
       "      <td>4</td>\n",
       "      <td>0.207</td>\n",
       "      <td>0.207</td>\n",
       "      <td>-0.000</td>\n",
       "      <td>0.023</td>\n",
       "      <td>-0.000</td>\n",
       "      <td>0.900</td>\n",
       "      <td>-0.000</td>\n",
       "    </tr>\n",
       "    <tr>\n",
       "      <th>16</th>\n",
       "      <td>3</td>\n",
       "      <td>5</td>\n",
       "      <td>0.207</td>\n",
       "      <td>0.203</td>\n",
       "      <td>0.003</td>\n",
       "      <td>0.023</td>\n",
       "      <td>0.148</td>\n",
       "      <td>0.900</td>\n",
       "      <td>0.027</td>\n",
       "    </tr>\n",
       "    <tr>\n",
       "      <th>17</th>\n",
       "      <td>3</td>\n",
       "      <td>6</td>\n",
       "      <td>0.207</td>\n",
       "      <td>0.170</td>\n",
       "      <td>0.037</td>\n",
       "      <td>0.023</td>\n",
       "      <td>1.628</td>\n",
       "      <td>0.642</td>\n",
       "      <td>0.295</td>\n",
       "    </tr>\n",
       "    <tr>\n",
       "      <th>18</th>\n",
       "      <td>4</td>\n",
       "      <td>5</td>\n",
       "      <td>0.207</td>\n",
       "      <td>0.203</td>\n",
       "      <td>0.003</td>\n",
       "      <td>0.023</td>\n",
       "      <td>0.148</td>\n",
       "      <td>0.900</td>\n",
       "      <td>0.027</td>\n",
       "    </tr>\n",
       "    <tr>\n",
       "      <th>19</th>\n",
       "      <td>4</td>\n",
       "      <td>6</td>\n",
       "      <td>0.207</td>\n",
       "      <td>0.170</td>\n",
       "      <td>0.037</td>\n",
       "      <td>0.023</td>\n",
       "      <td>1.628</td>\n",
       "      <td>0.642</td>\n",
       "      <td>0.295</td>\n",
       "    </tr>\n",
       "    <tr>\n",
       "      <th>20</th>\n",
       "      <td>5</td>\n",
       "      <td>6</td>\n",
       "      <td>0.203</td>\n",
       "      <td>0.170</td>\n",
       "      <td>0.033</td>\n",
       "      <td>0.023</td>\n",
       "      <td>1.480</td>\n",
       "      <td>0.729</td>\n",
       "      <td>0.269</td>\n",
       "    </tr>\n",
       "  </tbody>\n",
       "</table>\n",
       "</div>"
      ],
      "text/plain": [
       "    A  B  mean(A)  mean(B)   diff     se      T  p-tukey  hedges\n",
       "0   0  1    0.204    0.207 -0.002  0.023 -0.111    0.900  -0.020\n",
       "1   0  2    0.204    0.206 -0.002  0.023 -0.074    0.900  -0.013\n",
       "2   0  3    0.204    0.207 -0.002  0.023 -0.111    0.900  -0.020\n",
       "3   0  4    0.204    0.207 -0.002  0.023 -0.111    0.900  -0.020\n",
       "4   0  5    0.204    0.203  0.001  0.023  0.037    0.900   0.007\n",
       "5   0  6    0.204    0.170  0.034  0.023  1.517    0.707   0.275\n",
       "6   1  2    0.207    0.206  0.001  0.023  0.037    0.900   0.007\n",
       "7   1  3    0.207    0.207  0.000  0.023  0.000    0.900   0.000\n",
       "8   1  4    0.207    0.207  0.000  0.023  0.000    0.900   0.000\n",
       "9   1  5    0.207    0.203  0.003  0.023  0.148    0.900   0.027\n",
       "10  1  6    0.207    0.170  0.037  0.023  1.628    0.642   0.295\n",
       "11  2  3    0.206    0.207 -0.001  0.023 -0.037    0.900  -0.007\n",
       "12  2  4    0.206    0.207 -0.001  0.023 -0.037    0.900  -0.007\n",
       "13  2  5    0.206    0.203  0.003  0.023  0.111    0.900   0.020\n",
       "14  2  6    0.206    0.170  0.036  0.023  1.591    0.664   0.289\n",
       "15  3  4    0.207    0.207 -0.000  0.023 -0.000    0.900  -0.000\n",
       "16  3  5    0.207    0.203  0.003  0.023  0.148    0.900   0.027\n",
       "17  3  6    0.207    0.170  0.037  0.023  1.628    0.642   0.295\n",
       "18  4  5    0.207    0.203  0.003  0.023  0.148    0.900   0.027\n",
       "19  4  6    0.207    0.170  0.037  0.023  1.628    0.642   0.295\n",
       "20  5  6    0.203    0.170  0.033  0.023  1.480    0.729   0.269"
      ]
     },
     "execution_count": 29,
     "metadata": {},
     "output_type": "execute_result"
    }
   ],
   "source": [
    "X_df.pairwise_tukey(dv='x', between='Site').round(3)"
   ]
  },
  {
   "cell_type": "code",
   "execution_count": 30,
   "metadata": {},
   "outputs": [
    {
     "data": {
      "text/html": [
       "<div>\n",
       "<style scoped>\n",
       "    .dataframe tbody tr th:only-of-type {\n",
       "        vertical-align: middle;\n",
       "    }\n",
       "\n",
       "    .dataframe tbody tr th {\n",
       "        vertical-align: top;\n",
       "    }\n",
       "\n",
       "    .dataframe thead th {\n",
       "        text-align: right;\n",
       "    }\n",
       "</style>\n",
       "<table border=\"1\" class=\"dataframe\">\n",
       "  <thead>\n",
       "    <tr style=\"text-align: right;\">\n",
       "      <th></th>\n",
       "      <th>A</th>\n",
       "      <th>B</th>\n",
       "      <th>mean(A)</th>\n",
       "      <th>mean(B)</th>\n",
       "      <th>diff</th>\n",
       "      <th>se</th>\n",
       "      <th>T</th>\n",
       "      <th>p-tukey</th>\n",
       "      <th>hedges</th>\n",
       "    </tr>\n",
       "  </thead>\n",
       "  <tbody>\n",
       "    <tr>\n",
       "      <th>0</th>\n",
       "      <td>0</td>\n",
       "      <td>1</td>\n",
       "      <td>0.217</td>\n",
       "      <td>0.232</td>\n",
       "      <td>-0.015</td>\n",
       "      <td>0.019</td>\n",
       "      <td>-0.836</td>\n",
       "      <td>0.900</td>\n",
       "      <td>-0.128</td>\n",
       "    </tr>\n",
       "    <tr>\n",
       "      <th>1</th>\n",
       "      <td>0</td>\n",
       "      <td>2</td>\n",
       "      <td>0.217</td>\n",
       "      <td>0.215</td>\n",
       "      <td>0.002</td>\n",
       "      <td>0.019</td>\n",
       "      <td>0.096</td>\n",
       "      <td>0.900</td>\n",
       "      <td>0.015</td>\n",
       "    </tr>\n",
       "    <tr>\n",
       "      <th>2</th>\n",
       "      <td>0</td>\n",
       "      <td>3</td>\n",
       "      <td>0.217</td>\n",
       "      <td>0.147</td>\n",
       "      <td>0.070</td>\n",
       "      <td>0.019</td>\n",
       "      <td>3.760</td>\n",
       "      <td>0.002</td>\n",
       "      <td>0.578</td>\n",
       "    </tr>\n",
       "    <tr>\n",
       "      <th>3</th>\n",
       "      <td>0</td>\n",
       "      <td>4</td>\n",
       "      <td>0.217</td>\n",
       "      <td>0.192</td>\n",
       "      <td>0.025</td>\n",
       "      <td>0.019</td>\n",
       "      <td>1.350</td>\n",
       "      <td>0.640</td>\n",
       "      <td>0.207</td>\n",
       "    </tr>\n",
       "    <tr>\n",
       "      <th>4</th>\n",
       "      <td>1</td>\n",
       "      <td>2</td>\n",
       "      <td>0.232</td>\n",
       "      <td>0.215</td>\n",
       "      <td>0.017</td>\n",
       "      <td>0.019</td>\n",
       "      <td>0.932</td>\n",
       "      <td>0.876</td>\n",
       "      <td>0.143</td>\n",
       "    </tr>\n",
       "    <tr>\n",
       "      <th>5</th>\n",
       "      <td>1</td>\n",
       "      <td>3</td>\n",
       "      <td>0.232</td>\n",
       "      <td>0.147</td>\n",
       "      <td>0.085</td>\n",
       "      <td>0.019</td>\n",
       "      <td>4.596</td>\n",
       "      <td>0.001</td>\n",
       "      <td>0.706</td>\n",
       "    </tr>\n",
       "    <tr>\n",
       "      <th>6</th>\n",
       "      <td>1</td>\n",
       "      <td>4</td>\n",
       "      <td>0.232</td>\n",
       "      <td>0.192</td>\n",
       "      <td>0.040</td>\n",
       "      <td>0.019</td>\n",
       "      <td>2.185</td>\n",
       "      <td>0.187</td>\n",
       "      <td>0.336</td>\n",
       "    </tr>\n",
       "    <tr>\n",
       "      <th>7</th>\n",
       "      <td>2</td>\n",
       "      <td>3</td>\n",
       "      <td>0.215</td>\n",
       "      <td>0.147</td>\n",
       "      <td>0.068</td>\n",
       "      <td>0.019</td>\n",
       "      <td>3.664</td>\n",
       "      <td>0.003</td>\n",
       "      <td>0.563</td>\n",
       "    </tr>\n",
       "    <tr>\n",
       "      <th>8</th>\n",
       "      <td>2</td>\n",
       "      <td>4</td>\n",
       "      <td>0.215</td>\n",
       "      <td>0.192</td>\n",
       "      <td>0.023</td>\n",
       "      <td>0.019</td>\n",
       "      <td>1.253</td>\n",
       "      <td>0.694</td>\n",
       "      <td>0.193</td>\n",
       "    </tr>\n",
       "    <tr>\n",
       "      <th>9</th>\n",
       "      <td>3</td>\n",
       "      <td>4</td>\n",
       "      <td>0.147</td>\n",
       "      <td>0.192</td>\n",
       "      <td>-0.045</td>\n",
       "      <td>0.019</td>\n",
       "      <td>-2.410</td>\n",
       "      <td>0.115</td>\n",
       "      <td>-0.370</td>\n",
       "    </tr>\n",
       "  </tbody>\n",
       "</table>\n",
       "</div>"
      ],
      "text/plain": [
       "   A  B  mean(A)  mean(B)   diff     se      T  p-tukey  hedges\n",
       "0  0  1    0.217    0.232 -0.015  0.019 -0.836    0.900  -0.128\n",
       "1  0  2    0.217    0.215  0.002  0.019  0.096    0.900   0.015\n",
       "2  0  3    0.217    0.147  0.070  0.019  3.760    0.002   0.578\n",
       "3  0  4    0.217    0.192  0.025  0.019  1.350    0.640   0.207\n",
       "4  1  2    0.232    0.215  0.017  0.019  0.932    0.876   0.143\n",
       "5  1  3    0.232    0.147  0.085  0.019  4.596    0.001   0.706\n",
       "6  1  4    0.232    0.192  0.040  0.019  2.185    0.187   0.336\n",
       "7  2  3    0.215    0.147  0.068  0.019  3.664    0.003   0.563\n",
       "8  2  4    0.215    0.192  0.023  0.019  1.253    0.694   0.193\n",
       "9  3  4    0.147    0.192 -0.045  0.019 -2.410    0.115  -0.370"
      ]
     },
     "execution_count": 30,
     "metadata": {},
     "output_type": "execute_result"
    }
   ],
   "source": [
    "X_df.pairwise_tukey(dv='x', between='Actor').round(3)"
   ]
  },
  {
   "cell_type": "code",
   "execution_count": 31,
   "metadata": {},
   "outputs": [
    {
     "data": {
      "text/html": [
       "<div>\n",
       "<style scoped>\n",
       "    .dataframe tbody tr th:only-of-type {\n",
       "        vertical-align: middle;\n",
       "    }\n",
       "\n",
       "    .dataframe tbody tr th {\n",
       "        vertical-align: top;\n",
       "    }\n",
       "\n",
       "    .dataframe thead th {\n",
       "        text-align: right;\n",
       "    }\n",
       "</style>\n",
       "<table border=\"1\" class=\"dataframe\">\n",
       "  <thead>\n",
       "    <tr style=\"text-align: right;\">\n",
       "      <th></th>\n",
       "      <th>A</th>\n",
       "      <th>B</th>\n",
       "      <th>mean(A)</th>\n",
       "      <th>mean(B)</th>\n",
       "      <th>diff</th>\n",
       "      <th>se</th>\n",
       "      <th>T</th>\n",
       "      <th>p-tukey</th>\n",
       "      <th>hedges</th>\n",
       "    </tr>\n",
       "  </thead>\n",
       "  <tbody>\n",
       "    <tr>\n",
       "      <th>0</th>\n",
       "      <td>0</td>\n",
       "      <td>1</td>\n",
       "      <td>0.139</td>\n",
       "      <td>0.193</td>\n",
       "      <td>-0.055</td>\n",
       "      <td>0.016</td>\n",
       "      <td>-3.394</td>\n",
       "      <td>0.004</td>\n",
       "      <td>-0.467</td>\n",
       "    </tr>\n",
       "    <tr>\n",
       "      <th>1</th>\n",
       "      <td>0</td>\n",
       "      <td>2</td>\n",
       "      <td>0.139</td>\n",
       "      <td>0.229</td>\n",
       "      <td>-0.090</td>\n",
       "      <td>0.016</td>\n",
       "      <td>-5.608</td>\n",
       "      <td>0.001</td>\n",
       "      <td>-0.771</td>\n",
       "    </tr>\n",
       "    <tr>\n",
       "      <th>2</th>\n",
       "      <td>0</td>\n",
       "      <td>3</td>\n",
       "      <td>0.139</td>\n",
       "      <td>0.241</td>\n",
       "      <td>-0.102</td>\n",
       "      <td>0.016</td>\n",
       "      <td>-6.346</td>\n",
       "      <td>0.001</td>\n",
       "      <td>-0.873</td>\n",
       "    </tr>\n",
       "    <tr>\n",
       "      <th>3</th>\n",
       "      <td>1</td>\n",
       "      <td>2</td>\n",
       "      <td>0.193</td>\n",
       "      <td>0.229</td>\n",
       "      <td>-0.036</td>\n",
       "      <td>0.016</td>\n",
       "      <td>-2.214</td>\n",
       "      <td>0.121</td>\n",
       "      <td>-0.304</td>\n",
       "    </tr>\n",
       "    <tr>\n",
       "      <th>4</th>\n",
       "      <td>1</td>\n",
       "      <td>3</td>\n",
       "      <td>0.193</td>\n",
       "      <td>0.241</td>\n",
       "      <td>-0.048</td>\n",
       "      <td>0.016</td>\n",
       "      <td>-2.952</td>\n",
       "      <td>0.018</td>\n",
       "      <td>-0.406</td>\n",
       "    </tr>\n",
       "    <tr>\n",
       "      <th>5</th>\n",
       "      <td>2</td>\n",
       "      <td>3</td>\n",
       "      <td>0.229</td>\n",
       "      <td>0.241</td>\n",
       "      <td>-0.012</td>\n",
       "      <td>0.016</td>\n",
       "      <td>-0.738</td>\n",
       "      <td>0.871</td>\n",
       "      <td>-0.101</td>\n",
       "    </tr>\n",
       "  </tbody>\n",
       "</table>\n",
       "</div>"
      ],
      "text/plain": [
       "   A  B  mean(A)  mean(B)   diff     se      T  p-tukey  hedges\n",
       "0  0  1    0.139    0.193 -0.055  0.016 -3.394    0.004  -0.467\n",
       "1  0  2    0.139    0.229 -0.090  0.016 -5.608    0.001  -0.771\n",
       "2  0  3    0.139    0.241 -0.102  0.016 -6.346    0.001  -0.873\n",
       "3  1  2    0.193    0.229 -0.036  0.016 -2.214    0.121  -0.304\n",
       "4  1  3    0.193    0.241 -0.048  0.016 -2.952    0.018  -0.406\n",
       "5  2  3    0.229    0.241 -0.012  0.016 -0.738    0.871  -0.101"
      ]
     },
     "execution_count": 31,
     "metadata": {},
     "output_type": "execute_result"
    }
   ],
   "source": [
    "X_df.pairwise_tukey(dv='x', between='Color').round(3)"
   ]
  },
  {
   "cell_type": "markdown",
   "metadata": {},
   "source": [
    "The post-hoc analyses on the main effect of color show that colors 1-4 have significantly higher proportion than color 0, *p*<.05 while the other differences are non-significant."
   ]
  },
  {
   "cell_type": "markdown",
   "metadata": {},
   "source": [
    "##### Plotting the interaction effects"
   ]
  },
  {
   "cell_type": "code",
   "execution_count": 32,
   "metadata": {},
   "outputs": [
    {
     "data": {
      "image/png": "[encoded data removed]",
      "text/plain": [
       "<Figure size 720x720 with 1 Axes>"
      ]
     },
     "metadata": {},
     "output_type": "display_data"
    }
   ],
   "source": [
    "fig = interaction_plot(X_df['Actor'],X_df['Color'],X_df['x'])\n",
    "plt.show()"
   ]
  },
  {
   "cell_type": "code",
   "execution_count": 33,
   "metadata": {},
   "outputs": [
    {
     "data": {
      "image/png": "[encoded data removed]",
      "text/plain": [
       "<Figure size 720x720 with 1 Axes>"
      ]
     },
     "metadata": {},
     "output_type": "display_data"
    }
   ],
   "source": [
    "fig = interaction_plot(X_df['Site'],X_df['Actor'],X_df['x'])\n",
    "plt.show()"
   ]
  },
  {
   "cell_type": "code",
   "execution_count": 34,
   "metadata": {},
   "outputs": [
    {
     "data": {
      "image/png": "[encoded data removed]",
      "text/plain": [
       "<Figure size 720x720 with 1 Axes>"
      ]
     },
     "metadata": {},
     "output_type": "display_data"
    }
   ],
   "source": [
    "fig = interaction_plot(X_df['Site'],X_df['Color'],X_df['x'])\n",
    "plt.show()"
   ]
  },
  {
   "cell_type": "markdown",
   "metadata": {},
   "source": [
    "The interaction patterns of color-actor and color-site shows that different colors are distributed by different actors and on different sites unequally, proving that the sites and actors are not homogeneously acting during the game."
   ]
  },
  {
   "cell_type": "markdown",
   "metadata": {},
   "source": [
    "### Q2\n",
    "**how different are the  decisions of the participants from round to round?**"
   ]
  },
  {
   "cell_type": "markdown",
   "metadata": {},
   "source": [
    "Since the Q2 is also similar to the questions of Q1, I have integrated them into a three-way ANOVA."
   ]
  },
  {
   "cell_type": "code",
   "execution_count": 35,
   "metadata": {},
   "outputs": [
    {
     "data": {
      "text/html": [
       "<div>\n",
       "<style scoped>\n",
       "    .dataframe tbody tr th:only-of-type {\n",
       "        vertical-align: middle;\n",
       "    }\n",
       "\n",
       "    .dataframe tbody tr th {\n",
       "        vertical-align: top;\n",
       "    }\n",
       "\n",
       "    .dataframe thead th {\n",
       "        text-align: right;\n",
       "    }\n",
       "</style>\n",
       "<table border=\"1\" class=\"dataframe\">\n",
       "  <thead>\n",
       "    <tr style=\"text-align: right;\">\n",
       "      <th></th>\n",
       "      <th>Source</th>\n",
       "      <th>SS</th>\n",
       "      <th>DF</th>\n",
       "      <th>MS</th>\n",
       "      <th>F</th>\n",
       "      <th>p-unc</th>\n",
       "      <th>np2</th>\n",
       "    </tr>\n",
       "  </thead>\n",
       "  <tbody>\n",
       "    <tr>\n",
       "      <th>0</th>\n",
       "      <td>Actor</td>\n",
       "      <td>0.370202</td>\n",
       "      <td>4.0</td>\n",
       "      <td>0.092551</td>\n",
       "      <td>5.245783</td>\n",
       "      <td>0.000421</td>\n",
       "      <td>0.062453</td>\n",
       "    </tr>\n",
       "    <tr>\n",
       "      <th>1</th>\n",
       "      <td>Site</td>\n",
       "      <td>0.065655</td>\n",
       "      <td>6.0</td>\n",
       "      <td>0.010942</td>\n",
       "      <td>0.620220</td>\n",
       "      <td>0.714112</td>\n",
       "      <td>0.011676</td>\n",
       "    </tr>\n",
       "    <tr>\n",
       "      <th>2</th>\n",
       "      <td>Round</td>\n",
       "      <td>0.003583</td>\n",
       "      <td>2.0</td>\n",
       "      <td>0.001792</td>\n",
       "      <td>0.101552</td>\n",
       "      <td>0.903464</td>\n",
       "      <td>0.000644</td>\n",
       "    </tr>\n",
       "    <tr>\n",
       "      <th>3</th>\n",
       "      <td>Actor * Site</td>\n",
       "      <td>0.286131</td>\n",
       "      <td>24.0</td>\n",
       "      <td>0.011922</td>\n",
       "      <td>0.675748</td>\n",
       "      <td>0.874626</td>\n",
       "      <td>0.048965</td>\n",
       "    </tr>\n",
       "    <tr>\n",
       "      <th>4</th>\n",
       "      <td>Actor * Round</td>\n",
       "      <td>0.038619</td>\n",
       "      <td>8.0</td>\n",
       "      <td>0.004827</td>\n",
       "      <td>0.273617</td>\n",
       "      <td>0.974182</td>\n",
       "      <td>0.006901</td>\n",
       "    </tr>\n",
       "    <tr>\n",
       "      <th>5</th>\n",
       "      <td>Site * Round</td>\n",
       "      <td>0.004167</td>\n",
       "      <td>12.0</td>\n",
       "      <td>0.000347</td>\n",
       "      <td>0.019681</td>\n",
       "      <td>1.000000</td>\n",
       "      <td>0.000749</td>\n",
       "    </tr>\n",
       "    <tr>\n",
       "      <th>6</th>\n",
       "      <td>Actor * Site * Round</td>\n",
       "      <td>0.024048</td>\n",
       "      <td>48.0</td>\n",
       "      <td>0.000501</td>\n",
       "      <td>0.028396</td>\n",
       "      <td>1.000000</td>\n",
       "      <td>0.004308</td>\n",
       "    </tr>\n",
       "    <tr>\n",
       "      <th>7</th>\n",
       "      <td>Residual</td>\n",
       "      <td>5.557500</td>\n",
       "      <td>315.0</td>\n",
       "      <td>0.017643</td>\n",
       "      <td>NaN</td>\n",
       "      <td>NaN</td>\n",
       "      <td>NaN</td>\n",
       "    </tr>\n",
       "  </tbody>\n",
       "</table>\n",
       "</div>"
      ],
      "text/plain": [
       "                 Source        SS     DF        MS         F     p-unc  \\\n",
       "0                 Actor  0.370202    4.0  0.092551  5.245783  0.000421   \n",
       "1                  Site  0.065655    6.0  0.010942  0.620220  0.714112   \n",
       "2                 Round  0.003583    2.0  0.001792  0.101552  0.903464   \n",
       "3          Actor * Site  0.286131   24.0  0.011922  0.675748  0.874626   \n",
       "4         Actor * Round  0.038619    8.0  0.004827  0.273617  0.974182   \n",
       "5          Site * Round  0.004167   12.0  0.000347  0.019681  1.000000   \n",
       "6  Actor * Site * Round  0.024048   48.0  0.000501  0.028396  1.000000   \n",
       "7              Residual  5.557500  315.0  0.017643       NaN       NaN   \n",
       "\n",
       "        np2  \n",
       "0  0.062453  \n",
       "1  0.011676  \n",
       "2  0.000644  \n",
       "3  0.048965  \n",
       "4  0.006901  \n",
       "5  0.000749  \n",
       "6  0.004308  \n",
       "7       NaN  "
      ]
     },
     "execution_count": 35,
     "metadata": {},
     "output_type": "execute_result"
    }
   ],
   "source": [
    "# three-way ANOVA usign Pingouin library\n",
    "aov = pg.anova(data=X_df, dv='x', between=['Actor', 'Site', 'Round'], detailed=True)\n",
    "aov"
   ]
  },
  {
   "cell_type": "markdown",
   "metadata": {},
   "source": [
    "##### Descriptive Statistics of the Rounds"
   ]
  },
  {
   "cell_type": "code",
   "execution_count": 36,
   "metadata": {},
   "outputs": [
    {
     "data": {
      "text/plain": [
       "(              x\n",
       " Round          \n",
       " 0      0.201786\n",
       " 1      0.196429\n",
       " 2      0.203214,\n",
       "               x\n",
       " Round          \n",
       " 0      0.109678\n",
       " 1      0.131762\n",
       " 2      0.127540)"
      ]
     },
     "execution_count": 36,
     "metadata": {},
     "output_type": "execute_result"
    }
   ],
   "source": [
    "X_df[['Round','x']].groupby('Round').mean(), X_df[['Round','x']].groupby('Round').std()"
   ]
  },
  {
   "cell_type": "markdown",
   "metadata": {},
   "source": [
    "##### Checking for Assumptions of ANOVA"
   ]
  },
  {
   "cell_type": "markdown",
   "metadata": {},
   "source": [
    "First check for the homogeneity of the data for equal variance"
   ]
  },
  {
   "cell_type": "code",
   "execution_count": 37,
   "metadata": {},
   "outputs": [
    {
     "data": {
      "text/html": [
       "<div>\n",
       "<style scoped>\n",
       "    .dataframe tbody tr th:only-of-type {\n",
       "        vertical-align: middle;\n",
       "    }\n",
       "\n",
       "    .dataframe tbody tr th {\n",
       "        vertical-align: top;\n",
       "    }\n",
       "\n",
       "    .dataframe thead th {\n",
       "        text-align: right;\n",
       "    }\n",
       "</style>\n",
       "<table border=\"1\" class=\"dataframe\">\n",
       "  <thead>\n",
       "    <tr style=\"text-align: right;\">\n",
       "      <th></th>\n",
       "      <th>Parameter</th>\n",
       "      <th>Value</th>\n",
       "    </tr>\n",
       "  </thead>\n",
       "  <tbody>\n",
       "    <tr>\n",
       "      <th>0</th>\n",
       "      <td>Test statistics (W)</td>\n",
       "      <td>1.4670</td>\n",
       "    </tr>\n",
       "    <tr>\n",
       "      <th>1</th>\n",
       "      <td>Degrees of freedom (Df)</td>\n",
       "      <td>11.0000</td>\n",
       "    </tr>\n",
       "    <tr>\n",
       "      <th>2</th>\n",
       "      <td>p value</td>\n",
       "      <td>0.1412</td>\n",
       "    </tr>\n",
       "  </tbody>\n",
       "</table>\n",
       "</div>"
      ],
      "text/plain": [
       "                 Parameter    Value\n",
       "0      Test statistics (W)   1.4670\n",
       "1  Degrees of freedom (Df)  11.0000\n",
       "2                  p value   0.1412"
      ]
     },
     "execution_count": 37,
     "metadata": {},
     "output_type": "execute_result"
    }
   ],
   "source": [
    "res = stat()\n",
    "res.levene(df=X_df, res_var='x', xfac_var=['Round','Color'])\n",
    "res.levene_summary"
   ]
  },
  {
   "cell_type": "markdown",
   "metadata": {},
   "source": [
    "The dataset with two-way design of round-color has equal variance with Levene test (*W*=.9669, *df*=14, *p*=0.486). Normal ANOVA is used for later comparison."
   ]
  },
  {
   "cell_type": "markdown",
   "metadata": {},
   "source": [
    "##### ANOVA"
   ]
  },
  {
   "cell_type": "code",
   "execution_count": 38,
   "metadata": {},
   "outputs": [
    {
     "data": {
      "text/html": [
       "<div>\n",
       "<style scoped>\n",
       "    .dataframe tbody tr th:only-of-type {\n",
       "        vertical-align: middle;\n",
       "    }\n",
       "\n",
       "    .dataframe tbody tr th {\n",
       "        vertical-align: top;\n",
       "    }\n",
       "\n",
       "    .dataframe thead th {\n",
       "        text-align: right;\n",
       "    }\n",
       "</style>\n",
       "<table border=\"1\" class=\"dataframe\">\n",
       "  <thead>\n",
       "    <tr style=\"text-align: right;\">\n",
       "      <th></th>\n",
       "      <th>Source</th>\n",
       "      <th>SS</th>\n",
       "      <th>DF</th>\n",
       "      <th>MS</th>\n",
       "      <th>F</th>\n",
       "      <th>p-unc</th>\n",
       "      <th>np2</th>\n",
       "    </tr>\n",
       "  </thead>\n",
       "  <tbody>\n",
       "    <tr>\n",
       "      <th>0</th>\n",
       "      <td>Round</td>\n",
       "      <td>0.004</td>\n",
       "      <td>2</td>\n",
       "      <td>0.002</td>\n",
       "      <td>0.131</td>\n",
       "      <td>0.877</td>\n",
       "      <td>0.001</td>\n",
       "    </tr>\n",
       "    <tr>\n",
       "      <th>1</th>\n",
       "      <td>Color</td>\n",
       "      <td>0.665</td>\n",
       "      <td>3</td>\n",
       "      <td>0.222</td>\n",
       "      <td>16.241</td>\n",
       "      <td>0.000</td>\n",
       "      <td>0.107</td>\n",
       "    </tr>\n",
       "    <tr>\n",
       "      <th>2</th>\n",
       "      <td>Round * Color</td>\n",
       "      <td>0.108</td>\n",
       "      <td>6</td>\n",
       "      <td>0.018</td>\n",
       "      <td>1.321</td>\n",
       "      <td>0.246</td>\n",
       "      <td>0.019</td>\n",
       "    </tr>\n",
       "    <tr>\n",
       "      <th>3</th>\n",
       "      <td>Residual</td>\n",
       "      <td>5.573</td>\n",
       "      <td>408</td>\n",
       "      <td>0.014</td>\n",
       "      <td>NaN</td>\n",
       "      <td>NaN</td>\n",
       "      <td>NaN</td>\n",
       "    </tr>\n",
       "  </tbody>\n",
       "</table>\n",
       "</div>"
      ],
      "text/plain": [
       "          Source     SS   DF     MS       F  p-unc    np2\n",
       "0          Round  0.004    2  0.002   0.131  0.877  0.001\n",
       "1          Color  0.665    3  0.222  16.241  0.000  0.107\n",
       "2  Round * Color  0.108    6  0.018   1.321  0.246  0.019\n",
       "3       Residual  5.573  408  0.014     NaN    NaN    NaN"
      ]
     },
     "execution_count": 38,
     "metadata": {},
     "output_type": "execute_result"
    }
   ],
   "source": [
    "# three-way ANOVA usign Pingouin library\n",
    "aov = pg.anova(data=X_df, dv='x', between=['Round', 'Color'], detailed=True, effsize='np2').round(3)\n",
    "aov"
   ]
  },
  {
   "attachments": {},
   "cell_type": "markdown",
   "metadata": {},
   "source": [
    "The two-way ANOVA shows that the main effects of Round is not significant: *F*<sub>r</sub>(2,510)=0, *p*>.05,$\\eta^2$=0; the main effect of Color is significant: *F*<sub>c</sub>(4,510)=9.728, *p*<.001,$\\eta^2$=.071. The interaction effect between color and round is not significant: *F*<sub>a\\*r</sub>(8,510)=0.922, *p*>.05,$\\eta^2$=.014."
   ]
  },
  {
   "cell_type": "markdown",
   "metadata": {},
   "source": [
    "##### Plotting the interaction effects"
   ]
  },
  {
   "cell_type": "code",
   "execution_count": 39,
   "metadata": {},
   "outputs": [
    {
     "data": {
      "image/png": "[encoded data removed]",
      "text/plain": [
       "<Figure size 720x720 with 1 Axes>"
      ]
     },
     "metadata": {},
     "output_type": "display_data"
    }
   ],
   "source": [
    "fig = interaction_plot(X_df['Round'],X_df['Site'],X_df['x'])\n",
    "plt.show()"
   ]
  },
  {
   "cell_type": "code",
   "execution_count": 40,
   "metadata": {},
   "outputs": [
    {
     "data": {
      "image/png": "[encoded data removed]",
      "text/plain": [
       "<Figure size 720x720 with 1 Axes>"
      ]
     },
     "metadata": {},
     "output_type": "display_data"
    }
   ],
   "source": [
    "fig = interaction_plot(X_df['Round'],X_df['Color'],X_df['x'])\n",
    "plt.show()"
   ]
  },
  {
   "cell_type": "markdown",
   "metadata": {},
   "source": [
    "The interaction patterns of color-round shows that different colors are distributed equally for each round, showing that no significant changes have occured along the game-play."
   ]
  },
  {
   "cell_type": "markdown",
   "metadata": {},
   "source": [
    "### Q3\n",
    "**are the players improving their scores through the game play (generally)?**"
   ]
  },
  {
   "cell_type": "code",
   "execution_count": 41,
   "metadata": {},
   "outputs": [],
   "source": [
    "# extract the scores\n",
    "score_dict = project_dict[\"game_info\"][\"scores\"]\n",
    "# remove the recent scores\n",
    "[score_dict.pop(k, None) for k in ['change_score_t',  'closeness_score_t', 'environmental_score_t', 'individual_score_t']]\n",
    "# extract individual scores\n",
    "indiv_score = score_dict.pop(\"individual_score\", None)\n",
    "# separate valid scores\n",
    "valid_scores = {}\n",
    "for k, v in indiv_score.items():\n",
    "    if isinstance(v, dict):\n",
    "        valid_scores[k[:5]] = v\n",
    "# update the score dictionary with the calid scores\n",
    "score_dict.update(valid_scores)"
   ]
  },
  {
   "cell_type": "code",
   "execution_count": 42,
   "metadata": {},
   "outputs": [],
   "source": [
    "unified_score_dict = {}\n",
    "# simplify the timestamps to unify\n",
    "for k, v in score_dict.items():\n",
    "    local_score_dict = {}\n",
    "    for k0, v0 in v.items():\n",
    "        local_score_dict[str(int(int(k0)*1.e-5))] = v0\n",
    "    unified_score_dict[k] = local_score_dict"
   ]
  },
  {
   "cell_type": "code",
   "execution_count": 43,
   "metadata": {},
   "outputs": [
    {
     "data": {
      "text/html": [
       "<div>\n",
       "<style scoped>\n",
       "    .dataframe tbody tr th:only-of-type {\n",
       "        vertical-align: middle;\n",
       "    }\n",
       "\n",
       "    .dataframe tbody tr th {\n",
       "        vertical-align: top;\n",
       "    }\n",
       "\n",
       "    .dataframe thead th {\n",
       "        text-align: right;\n",
       "    }\n",
       "</style>\n",
       "<table border=\"1\" class=\"dataframe\">\n",
       "  <thead>\n",
       "    <tr style=\"text-align: right;\">\n",
       "      <th></th>\n",
       "      <th>change_score</th>\n",
       "      <th>closeness_score</th>\n",
       "      <th>environmental_score</th>\n",
       "      <th>2rH45</th>\n",
       "      <th>9gDju</th>\n",
       "      <th>Ccmr7</th>\n",
       "      <th>LNYUh</th>\n",
       "      <th>gHqMt</th>\n",
       "    </tr>\n",
       "  </thead>\n",
       "  <tbody>\n",
       "    <tr>\n",
       "      <th>16383670</th>\n",
       "      <td>0.679600</td>\n",
       "      <td>0.314523</td>\n",
       "      <td>0.850648</td>\n",
       "      <td>0.172787</td>\n",
       "      <td>0.284601</td>\n",
       "      <td>0.330133</td>\n",
       "      <td>0.418206</td>\n",
       "      <td>0.347863</td>\n",
       "    </tr>\n",
       "    <tr>\n",
       "      <th>16383681</th>\n",
       "      <td>0.678689</td>\n",
       "      <td>0.308280</td>\n",
       "      <td>0.850327</td>\n",
       "      <td>0.171625</td>\n",
       "      <td>0.285477</td>\n",
       "      <td>0.329160</td>\n",
       "      <td>0.417075</td>\n",
       "      <td>0.347863</td>\n",
       "    </tr>\n",
       "    <tr>\n",
       "      <th>16383706</th>\n",
       "      <td>0.655034</td>\n",
       "      <td>0.299094</td>\n",
       "      <td>0.824199</td>\n",
       "      <td>0.166619</td>\n",
       "      <td>0.286388</td>\n",
       "      <td>0.325213</td>\n",
       "      <td>0.408819</td>\n",
       "      <td>0.347863</td>\n",
       "    </tr>\n",
       "  </tbody>\n",
       "</table>\n",
       "</div>"
      ],
      "text/plain": [
       "          change_score  closeness_score  environmental_score     2rH45  \\\n",
       "16383670      0.679600         0.314523             0.850648  0.172787   \n",
       "16383681      0.678689         0.308280             0.850327  0.171625   \n",
       "16383706      0.655034         0.299094             0.824199  0.166619   \n",
       "\n",
       "             9gDju     Ccmr7     LNYUh     gHqMt  \n",
       "16383670  0.284601  0.330133  0.418206  0.347863  \n",
       "16383681  0.285477  0.329160  0.417075  0.347863  \n",
       "16383706  0.286388  0.325213  0.408819  0.347863  "
      ]
     },
     "execution_count": 43,
     "metadata": {},
     "output_type": "execute_result"
    }
   ],
   "source": [
    "# convert the data dictionary \n",
    "scores_df = pd.DataFrame(unified_score_dict).drop(\"0\")\n",
    "scores_df"
   ]
  },
  {
   "cell_type": "code",
   "execution_count": 44,
   "metadata": {},
   "outputs": [
    {
     "name": "stdout",
     "output_type": "stream",
     "text": [
      "round : 0\n",
      "statistic : -1.6288181349765882\n",
      "p-value : 0.14737518610312203\n",
      "round : 1\n",
      "statistic : -2.609286812560844\n",
      "p-value : 0.034949586466993886\n"
     ]
    }
   ],
   "source": [
    "# iterate over the rounds\n",
    "for i in range(len(scores_df) - 1):\n",
    "    # extract the scores of the rounds\n",
    "    s0 = scores_df.iloc[i].to_numpy()\n",
    "    s1 = scores_df.iloc[i+1].to_numpy()\n",
    "    # run the t test\n",
    "    obs = ttest_1samp(s1 - s0 , 0)\n",
    "    print(\"round :\", i)\n",
    "    print(\"statistic :\", obs.statistic)\n",
    "    print(\"p-value :\", obs.pvalue)"
   ]
  },
  {
   "cell_type": "markdown",
   "metadata": {},
   "source": [
    "#### Q4\n",
    "**will longer discussion times result in larger change in their decision or their score?**"
   ]
  },
  {
   "cell_type": "code",
   "execution_count": 45,
   "metadata": {},
   "outputs": [],
   "source": [
    "# extract the index as time\n",
    "scores_df[\"time\"] = scores_df.index\n",
    "# convert the type from string to int\n",
    "scores_df = scores_df.astype({'time': 'int'})\n",
    "# compute the difference between rounds of the game\n",
    "scores_diff = scores_df.diff()\n",
    "# drop the NaN row\n",
    "scores_diff = scores_diff.dropna()"
   ]
  },
  {
   "cell_type": "code",
   "execution_count": 46,
   "metadata": {},
   "outputs": [
    {
     "data": {
      "text/html": [
       "<div>\n",
       "<style scoped>\n",
       "    .dataframe tbody tr th:only-of-type {\n",
       "        vertical-align: middle;\n",
       "    }\n",
       "\n",
       "    .dataframe tbody tr th {\n",
       "        vertical-align: top;\n",
       "    }\n",
       "\n",
       "    .dataframe thead th {\n",
       "        text-align: right;\n",
       "    }\n",
       "</style>\n",
       "<table border=\"1\" class=\"dataframe\">\n",
       "  <thead>\n",
       "    <tr style=\"text-align: right;\">\n",
       "      <th></th>\n",
       "      <th>change_score</th>\n",
       "      <th>closeness_score</th>\n",
       "      <th>environmental_score</th>\n",
       "      <th>2rH45</th>\n",
       "      <th>9gDju</th>\n",
       "      <th>Ccmr7</th>\n",
       "      <th>LNYUh</th>\n",
       "      <th>gHqMt</th>\n",
       "      <th>time</th>\n",
       "    </tr>\n",
       "  </thead>\n",
       "  <tbody>\n",
       "    <tr>\n",
       "      <th>16383681</th>\n",
       "      <td>-0.000911</td>\n",
       "      <td>-0.006243</td>\n",
       "      <td>-0.000321</td>\n",
       "      <td>-0.001162</td>\n",
       "      <td>0.000876</td>\n",
       "      <td>-0.000973</td>\n",
       "      <td>-0.001131</td>\n",
       "      <td>-1.110223e-16</td>\n",
       "      <td>11.0</td>\n",
       "    </tr>\n",
       "    <tr>\n",
       "      <th>16383706</th>\n",
       "      <td>-0.023656</td>\n",
       "      <td>-0.009186</td>\n",
       "      <td>-0.026128</td>\n",
       "      <td>-0.005006</td>\n",
       "      <td>0.000911</td>\n",
       "      <td>-0.003947</td>\n",
       "      <td>-0.008256</td>\n",
       "      <td>0.000000e+00</td>\n",
       "      <td>25.0</td>\n",
       "    </tr>\n",
       "  </tbody>\n",
       "</table>\n",
       "</div>"
      ],
      "text/plain": [
       "          change_score  closeness_score  environmental_score     2rH45  \\\n",
       "16383681     -0.000911        -0.006243            -0.000321 -0.001162   \n",
       "16383706     -0.023656        -0.009186            -0.026128 -0.005006   \n",
       "\n",
       "             9gDju     Ccmr7     LNYUh         gHqMt  time  \n",
       "16383681  0.000876 -0.000973 -0.001131 -1.110223e-16  11.0  \n",
       "16383706  0.000911 -0.003947 -0.008256  0.000000e+00  25.0  "
      ]
     },
     "execution_count": 46,
     "metadata": {},
     "output_type": "execute_result"
    }
   ],
   "source": [
    "scores_diff"
   ]
  },
  {
   "cell_type": "code",
   "execution_count": 47,
   "metadata": {},
   "outputs": [
    {
     "data": {
      "text/html": [
       "<div>\n",
       "<style scoped>\n",
       "    .dataframe tbody tr th:only-of-type {\n",
       "        vertical-align: middle;\n",
       "    }\n",
       "\n",
       "    .dataframe tbody tr th {\n",
       "        vertical-align: top;\n",
       "    }\n",
       "\n",
       "    .dataframe thead th {\n",
       "        text-align: right;\n",
       "    }\n",
       "</style>\n",
       "<table border=\"1\" class=\"dataframe\">\n",
       "  <thead>\n",
       "    <tr style=\"text-align: right;\">\n",
       "      <th></th>\n",
       "      <th>change_score</th>\n",
       "      <th>closeness_score</th>\n",
       "      <th>environmental_score</th>\n",
       "      <th>2rH45</th>\n",
       "      <th>9gDju</th>\n",
       "      <th>Ccmr7</th>\n",
       "      <th>LNYUh</th>\n",
       "      <th>gHqMt</th>\n",
       "      <th>time</th>\n",
       "    </tr>\n",
       "  </thead>\n",
       "  <tbody>\n",
       "    <tr>\n",
       "      <th>change_score</th>\n",
       "      <td>1.0</td>\n",
       "      <td>1.0</td>\n",
       "      <td>1.0</td>\n",
       "      <td>1.0</td>\n",
       "      <td>-1.0</td>\n",
       "      <td>1.0</td>\n",
       "      <td>1.0</td>\n",
       "      <td>-1.0</td>\n",
       "      <td>-1.0</td>\n",
       "    </tr>\n",
       "    <tr>\n",
       "      <th>closeness_score</th>\n",
       "      <td>1.0</td>\n",
       "      <td>1.0</td>\n",
       "      <td>1.0</td>\n",
       "      <td>1.0</td>\n",
       "      <td>-1.0</td>\n",
       "      <td>1.0</td>\n",
       "      <td>1.0</td>\n",
       "      <td>-1.0</td>\n",
       "      <td>-1.0</td>\n",
       "    </tr>\n",
       "    <tr>\n",
       "      <th>environmental_score</th>\n",
       "      <td>1.0</td>\n",
       "      <td>1.0</td>\n",
       "      <td>1.0</td>\n",
       "      <td>1.0</td>\n",
       "      <td>-1.0</td>\n",
       "      <td>1.0</td>\n",
       "      <td>1.0</td>\n",
       "      <td>-1.0</td>\n",
       "      <td>-1.0</td>\n",
       "    </tr>\n",
       "    <tr>\n",
       "      <th>2rH45</th>\n",
       "      <td>1.0</td>\n",
       "      <td>1.0</td>\n",
       "      <td>1.0</td>\n",
       "      <td>1.0</td>\n",
       "      <td>-1.0</td>\n",
       "      <td>1.0</td>\n",
       "      <td>1.0</td>\n",
       "      <td>-1.0</td>\n",
       "      <td>-1.0</td>\n",
       "    </tr>\n",
       "    <tr>\n",
       "      <th>9gDju</th>\n",
       "      <td>-1.0</td>\n",
       "      <td>-1.0</td>\n",
       "      <td>-1.0</td>\n",
       "      <td>-1.0</td>\n",
       "      <td>1.0</td>\n",
       "      <td>-1.0</td>\n",
       "      <td>-1.0</td>\n",
       "      <td>1.0</td>\n",
       "      <td>1.0</td>\n",
       "    </tr>\n",
       "    <tr>\n",
       "      <th>Ccmr7</th>\n",
       "      <td>1.0</td>\n",
       "      <td>1.0</td>\n",
       "      <td>1.0</td>\n",
       "      <td>1.0</td>\n",
       "      <td>-1.0</td>\n",
       "      <td>1.0</td>\n",
       "      <td>1.0</td>\n",
       "      <td>-1.0</td>\n",
       "      <td>-1.0</td>\n",
       "    </tr>\n",
       "    <tr>\n",
       "      <th>LNYUh</th>\n",
       "      <td>1.0</td>\n",
       "      <td>1.0</td>\n",
       "      <td>1.0</td>\n",
       "      <td>1.0</td>\n",
       "      <td>-1.0</td>\n",
       "      <td>1.0</td>\n",
       "      <td>1.0</td>\n",
       "      <td>-1.0</td>\n",
       "      <td>-1.0</td>\n",
       "    </tr>\n",
       "    <tr>\n",
       "      <th>gHqMt</th>\n",
       "      <td>-1.0</td>\n",
       "      <td>-1.0</td>\n",
       "      <td>-1.0</td>\n",
       "      <td>-1.0</td>\n",
       "      <td>1.0</td>\n",
       "      <td>-1.0</td>\n",
       "      <td>-1.0</td>\n",
       "      <td>1.0</td>\n",
       "      <td>1.0</td>\n",
       "    </tr>\n",
       "    <tr>\n",
       "      <th>time</th>\n",
       "      <td>-1.0</td>\n",
       "      <td>-1.0</td>\n",
       "      <td>-1.0</td>\n",
       "      <td>-1.0</td>\n",
       "      <td>1.0</td>\n",
       "      <td>-1.0</td>\n",
       "      <td>-1.0</td>\n",
       "      <td>1.0</td>\n",
       "      <td>1.0</td>\n",
       "    </tr>\n",
       "  </tbody>\n",
       "</table>\n",
       "</div>"
      ],
      "text/plain": [
       "                     change_score  closeness_score  environmental_score  \\\n",
       "change_score                  1.0              1.0                  1.0   \n",
       "closeness_score               1.0              1.0                  1.0   \n",
       "environmental_score           1.0              1.0                  1.0   \n",
       "2rH45                         1.0              1.0                  1.0   \n",
       "9gDju                        -1.0             -1.0                 -1.0   \n",
       "Ccmr7                         1.0              1.0                  1.0   \n",
       "LNYUh                         1.0              1.0                  1.0   \n",
       "gHqMt                        -1.0             -1.0                 -1.0   \n",
       "time                         -1.0             -1.0                 -1.0   \n",
       "\n",
       "                     2rH45  9gDju  Ccmr7  LNYUh  gHqMt  time  \n",
       "change_score           1.0   -1.0    1.0    1.0   -1.0  -1.0  \n",
       "closeness_score        1.0   -1.0    1.0    1.0   -1.0  -1.0  \n",
       "environmental_score    1.0   -1.0    1.0    1.0   -1.0  -1.0  \n",
       "2rH45                  1.0   -1.0    1.0    1.0   -1.0  -1.0  \n",
       "9gDju                 -1.0    1.0   -1.0   -1.0    1.0   1.0  \n",
       "Ccmr7                  1.0   -1.0    1.0    1.0   -1.0  -1.0  \n",
       "LNYUh                  1.0   -1.0    1.0    1.0   -1.0  -1.0  \n",
       "gHqMt                 -1.0    1.0   -1.0   -1.0    1.0   1.0  \n",
       "time                  -1.0    1.0   -1.0   -1.0    1.0   1.0  "
      ]
     },
     "execution_count": 47,
     "metadata": {},
     "output_type": "execute_result"
    }
   ],
   "source": [
    "# compute the pearson correlation\n",
    "scores_diff.corr()"
   ]
  }
 ],
 "metadata": {
  "interpreter": {
   "hash": "7b9180195ce62bf9bd6b1050a658d5445dfc22cc5eb21670f6521f31c4ae077a"
  },
  "kernelspec": {
   "display_name": "Python 3",
   "language": "python",
   "name": "python3"
  },
  "language_info": {
   "codemirror_mode": {
    "name": "ipython",
    "version": 3
   },
   "file_extension": ".py",
   "mimetype": "text/x-python",
   "name": "python",
   "nbconvert_exporter": "python",
   "pygments_lexer": "ipython3",
   "version": "3.8.5"
  }
 },
 "nbformat": 4,
 "nbformat_minor": 2
}
